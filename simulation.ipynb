{
 "cells": [
  {
   "cell_type": "markdown",
   "id": "1696ca83",
   "metadata": {},
   "source": [
    "### Imports"
   ]
  },
  {
   "cell_type": "code",
   "execution_count": 1,
   "id": "4653541e",
   "metadata": {},
   "outputs": [],
   "source": [
    "import osmnx as ox\n",
    "import geopandas as gpd\n",
    "import networkx as nx\n",
    "\n",
    "import folium\n",
    "import branca.colormap as cmap # a folium spin-off for colormapping."
   ]
  },
  {
   "cell_type": "code",
   "execution_count": 2,
   "id": "46db7088",
   "metadata": {},
   "outputs": [],
   "source": [
    "# Generate a random seed for reproducibility\n",
    "seed = 42\n",
    "import random\n",
    "random.seed(seed)"
   ]
  },
  {
   "cell_type": "markdown",
   "id": "0e948780",
   "metadata": {},
   "source": [
    "### Simulation\n",
    "The rules of the simulation are as follows:\n",
    "- Each timestep t represents a day. We simulate for each Agent the course of one day\n",
    "- Each agent represents a person living at a specific residence in Eindhoven\n",
    "- Each agent has a list of amenity types that they visit regularly and a probability that they will visit it on any given day.\n",
    "- Each agent can either walk or cycle to work. They randomly choose whether they walk or cycle each day.\n",
    "- Some agents have a workplace. This can be one of the amenity types. They will always go to the same workplace with a high probability on each day.\n",
    "- For the amenities they don’t work at, an agent keeps a list of the closest n amenities to their home or workplace, and go to one of those on the list based on a geometrically decreasing probability in order of proximity. We name this probability \"curiosity\"."
   ]
  },
  {
   "cell_type": "code",
   "execution_count": 3,
   "id": "894f0333",
   "metadata": {},
   "outputs": [],
   "source": [
    "# Initialization\n",
    "\n",
    "place = 'Eindhoven, Netherlands'\n",
    "# Get the graph of the area\n",
    "G = ox.graph_from_place(place, network_type='walk', simplify=True)\n",
    "# Get the nodes and edges of the graph\n",
    "nodes, edges = ox.graph_to_gdfs(G, nodes=True, edges=True)\n",
    "\n",
    "\n",
    "# Adapted from eindhovenMap.py\n",
    "tags = {\n",
    "    'office': ['yes'],\n",
    "    'amenity': [\n",
    "        'pharmacy', 'hospital', 'clinic', 'doctors', \n",
    "        'school', 'kindergarten', 'college', 'university',  \n",
    "        'cafe', 'restaurant', 'bar', 'cinema', 'theatre',  \n",
    "        'community_centre', 'library', 'bicycle_rental',\n",
    "        'place_of_worship', \n",
    "    ],\n",
    "    'leisure': [\n",
    "        'park', 'fitness_centre', 'sports_centre', 'stadium', \n",
    "        'dog_park', 'pitch', 'swimming_pool'\n",
    "    ]\n",
    "}\n",
    "\n",
    "# Get the amenities of the area\n",
    "amenities = ox.features_from_place(place, tags=tags)\n",
    "\n",
    "# Get the residences of the area\n",
    "residences = ox.features_from_place(place, tags={'building': ['residential']})\n"
   ]
  },
  {
   "cell_type": "code",
   "execution_count": 4,
   "id": "a32c18f2",
   "metadata": {},
   "outputs": [
    {
     "name": "stdout",
     "output_type": "stream",
     "text": [
      "Loading networks\n",
      "Agent is walking today.\n",
      "Travel time to work: 0.0 minutes\n",
      "No amenity frequencies specified.\n"
     ]
    },
    {
     "data": {
      "text/plain": [
       "0.0"
      ]
     },
     "execution_count": 4,
     "metadata": {},
     "output_type": "execute_result"
    }
   ],
   "source": [
    "# For now just simulate a single agent\n",
    "# Create a random agent\n",
    "import Person as ps\n",
    "\n",
    "# Get the coordinates of a random residence\n",
    "rcoords = residences.sample(1).geometry.values[0].centroid.coords[0]\n",
    "# Get the coordinates of a random workplace\n",
    "wcoords = amenities.sample(1).geometry.values[0].centroid.coords[0]\n",
    "\n",
    "agent = ps.Person(\n",
    "    residence_coords= rcoords, \n",
    "    work_coords= wcoords,\n",
    "    seed=seed\n",
    ")\n",
    "\n",
    "agent.simulate_day()\n",
    "\n",
    "\n",
    "\n"
   ]
  }
 ],
 "metadata": {
  "kernelspec": {
   "display_name": "Python 3",
   "language": "python",
   "name": "python3"
  },
  "language_info": {
   "codemirror_mode": {
    "name": "ipython",
    "version": 3
   },
   "file_extension": ".py",
   "mimetype": "text/x-python",
   "name": "python",
   "nbconvert_exporter": "python",
   "pygments_lexer": "ipython3",
   "version": "3.13.2"
  }
 },
 "nbformat": 4,
 "nbformat_minor": 5
}
